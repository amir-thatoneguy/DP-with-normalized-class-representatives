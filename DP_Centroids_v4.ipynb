{
  "metadata": {
    "accelerator": "GPU",
    "colab": {
      "collapsed_sections": [
        "jz3hfV6485M4",
        "ahT924p3Fb0T",
        "5ANXKco8Fd2z",
        "z8XCp1CJFe-i",
        "ZEsq5aF4OPjk",
        "PW-rivGmVtYE",
        "IwMzNt8FVSsm",
        "t2WkgnT99XDH",
        "S6-oN3JH9X9j",
        "JSebpT9gU9Il",
        "fSDragQuEJvV",
        "rnTveNKN9ZgE",
        "ZNLIZ6VXC7d_",
        "Hv558K6meKBJ",
        "6ZF21-TmiSHN",
        "1VS-BF--9TJl",
        "H1XW_aRKwZYw",
        "dPVyFDz4SNcH"
      ],
      "provenance": [],
      "gpuType": "T4"
    },
    "kernelspec": {
      "name": "python3",
      "display_name": "Python 3"
    },
    "language_info": {
      "name": "python",
      "version": "3.10.12",
      "mimetype": "text/x-python",
      "codemirror_mode": {
        "name": "ipython",
        "version": 3
      },
      "pygments_lexer": "ipython3",
      "nbconvert_exporter": "python",
      "file_extension": ".py"
    }
  },
  "nbformat_minor": 0,
  "nbformat": 4,
  "cells": [
    {
      "cell_type": "markdown",
      "source": [
        "# Imports"
      ],
      "metadata": {
        "id": "jz3hfV6485M4"
      }
    },
    {
      "cell_type": "markdown",
      "source": [
        "## Common"
      ],
      "metadata": {
        "id": "ahT924p3Fb0T"
      }
    },
    {
      "cell_type": "code",
      "source": [
        "import torch\n",
        "import torch.nn as nn\n",
        "import torchvision\n",
        "from torch.utils.data import random_split, Dataset, DataLoader, ConcatDataset, Subset, TensorDataset\n",
        "from sklearn.model_selection import train_test_split\n",
        "import numpy as np\n",
        "import pandas as pd\n",
        "import matplotlib.pyplot as plt\n",
        "from PIL import Image\n",
        "from tqdm import tqdm\n",
        "!pip install prv-accountant\n",
        "\n",
        "from IPython.display import clear_output"
      ],
      "metadata": {
        "colab": {
          "base_uri": "https://localhost:8080/"
        },
        "id": "JBbWosOIFmEW",
        "outputId": "0e6c15ee-5219-4026-b3a1-55323e98bb17",
        "jupyter": {
          "source_hidden": true
        },
        "execution": {
          "iopub.status.busy": "2023-09-02T14:02:23.964247Z",
          "iopub.execute_input": "2023-09-02T14:02:23.964880Z",
          "iopub.status.idle": "2023-09-02T14:02:39.671321Z",
          "shell.execute_reply.started": "2023-09-02T14:02:23.964853Z",
          "shell.execute_reply": "2023-09-02T14:02:39.670105Z"
        },
        "trusted": true
      },
      "execution_count": 1,
      "outputs": [
        {
          "output_type": "stream",
          "name": "stdout",
          "text": [
            "Requirement already satisfied: prv-accountant in /usr/local/lib/python3.10/dist-packages (0.2.0)\n",
            "Requirement already satisfied: numpy in /usr/local/lib/python3.10/dist-packages (from prv-accountant) (1.23.5)\n",
            "Requirement already satisfied: scipy in /usr/local/lib/python3.10/dist-packages (from prv-accountant) (1.10.1)\n"
          ]
        }
      ]
    },
    {
      "cell_type": "markdown",
      "source": [
        "## TF"
      ],
      "metadata": {
        "id": "5ANXKco8Fd2z"
      }
    },
    {
      "cell_type": "code",
      "source": [
        "\"\"\"\n",
        "Adapted from https://colab.research.google.com/github/google-research/simclr/blob/master/colabs/finetuning.ipynb\n",
        "\"\"\"\n",
        "\n",
        "import numpy as np\n",
        "\n",
        "import tensorflow.compat.v1 as tf\n",
        "tf.disable_eager_execution()\n",
        "import tensorflow_hub as hub\n",
        "from sklearn.linear_model import LogisticRegression\n",
        "import os\n"
      ],
      "metadata": {
        "id": "RZXaEJ2jF-Tp",
        "jupyter": {
          "source_hidden": true
        }
      },
      "execution_count": null,
      "outputs": []
    },
    {
      "cell_type": "markdown",
      "source": [
        "## HuggingFace"
      ],
      "metadata": {
        "id": "z8XCp1CJFe-i"
      }
    },
    {
      "cell_type": "code",
      "source": [
        "!pip install datasets\n",
        "!pip install transformers\n",
        "!pip install timm\n",
        "\n",
        "import transformers\n",
        "import datasets\n"
      ],
      "metadata": {
        "id": "izyBsKNqF4LO",
        "jupyter": {
          "source_hidden": true
        },
        "execution": {
          "iopub.status.idle": "2023-09-02T14:04:10.149669Z",
          "shell.execute_reply.started": "2023-09-02T14:03:34.270835Z",
          "shell.execute_reply": "2023-09-02T14:04:10.148682Z"
        },
        "trusted": true,
        "colab": {
          "base_uri": "https://localhost:8080/"
        },
        "outputId": "57a80267-4aab-4e4b-b3a7-f911ea15c002"
      },
      "execution_count": 2,
      "outputs": [
        {
          "output_type": "stream",
          "name": "stdout",
          "text": [
            "Requirement already satisfied: datasets in /usr/local/lib/python3.10/dist-packages (2.14.4)\n",
            "Requirement already satisfied: numpy>=1.17 in /usr/local/lib/python3.10/dist-packages (from datasets) (1.23.5)\n",
            "Requirement already satisfied: pyarrow>=8.0.0 in /usr/local/lib/python3.10/dist-packages (from datasets) (9.0.0)\n",
            "Requirement already satisfied: dill<0.3.8,>=0.3.0 in /usr/local/lib/python3.10/dist-packages (from datasets) (0.3.7)\n",
            "Requirement already satisfied: pandas in /usr/local/lib/python3.10/dist-packages (from datasets) (1.5.3)\n",
            "Requirement already satisfied: requests>=2.19.0 in /usr/local/lib/python3.10/dist-packages (from datasets) (2.31.0)\n",
            "Requirement already satisfied: tqdm>=4.62.1 in /usr/local/lib/python3.10/dist-packages (from datasets) (4.66.1)\n",
            "Requirement already satisfied: xxhash in /usr/local/lib/python3.10/dist-packages (from datasets) (3.3.0)\n",
            "Requirement already satisfied: multiprocess in /usr/local/lib/python3.10/dist-packages (from datasets) (0.70.15)\n",
            "Requirement already satisfied: fsspec[http]>=2021.11.1 in /usr/local/lib/python3.10/dist-packages (from datasets) (2023.6.0)\n",
            "Requirement already satisfied: aiohttp in /usr/local/lib/python3.10/dist-packages (from datasets) (3.8.5)\n",
            "Requirement already satisfied: huggingface-hub<1.0.0,>=0.14.0 in /usr/local/lib/python3.10/dist-packages (from datasets) (0.16.4)\n",
            "Requirement already satisfied: packaging in /usr/local/lib/python3.10/dist-packages (from datasets) (23.1)\n",
            "Requirement already satisfied: pyyaml>=5.1 in /usr/local/lib/python3.10/dist-packages (from datasets) (6.0.1)\n",
            "Requirement already satisfied: attrs>=17.3.0 in /usr/local/lib/python3.10/dist-packages (from aiohttp->datasets) (23.1.0)\n",
            "Requirement already satisfied: charset-normalizer<4.0,>=2.0 in /usr/local/lib/python3.10/dist-packages (from aiohttp->datasets) (3.2.0)\n",
            "Requirement already satisfied: multidict<7.0,>=4.5 in /usr/local/lib/python3.10/dist-packages (from aiohttp->datasets) (6.0.4)\n",
            "Requirement already satisfied: async-timeout<5.0,>=4.0.0a3 in /usr/local/lib/python3.10/dist-packages (from aiohttp->datasets) (4.0.3)\n",
            "Requirement already satisfied: yarl<2.0,>=1.0 in /usr/local/lib/python3.10/dist-packages (from aiohttp->datasets) (1.9.2)\n",
            "Requirement already satisfied: frozenlist>=1.1.1 in /usr/local/lib/python3.10/dist-packages (from aiohttp->datasets) (1.4.0)\n",
            "Requirement already satisfied: aiosignal>=1.1.2 in /usr/local/lib/python3.10/dist-packages (from aiohttp->datasets) (1.3.1)\n",
            "Requirement already satisfied: filelock in /usr/local/lib/python3.10/dist-packages (from huggingface-hub<1.0.0,>=0.14.0->datasets) (3.12.2)\n",
            "Requirement already satisfied: typing-extensions>=3.7.4.3 in /usr/local/lib/python3.10/dist-packages (from huggingface-hub<1.0.0,>=0.14.0->datasets) (4.7.1)\n",
            "Requirement already satisfied: idna<4,>=2.5 in /usr/local/lib/python3.10/dist-packages (from requests>=2.19.0->datasets) (3.4)\n",
            "Requirement already satisfied: urllib3<3,>=1.21.1 in /usr/local/lib/python3.10/dist-packages (from requests>=2.19.0->datasets) (2.0.4)\n",
            "Requirement already satisfied: certifi>=2017.4.17 in /usr/local/lib/python3.10/dist-packages (from requests>=2.19.0->datasets) (2023.7.22)\n",
            "Requirement already satisfied: python-dateutil>=2.8.1 in /usr/local/lib/python3.10/dist-packages (from pandas->datasets) (2.8.2)\n",
            "Requirement already satisfied: pytz>=2020.1 in /usr/local/lib/python3.10/dist-packages (from pandas->datasets) (2023.3)\n",
            "Requirement already satisfied: six>=1.5 in /usr/local/lib/python3.10/dist-packages (from python-dateutil>=2.8.1->pandas->datasets) (1.16.0)\n",
            "Requirement already satisfied: transformers in /usr/local/lib/python3.10/dist-packages (4.32.1)\n",
            "Requirement already satisfied: filelock in /usr/local/lib/python3.10/dist-packages (from transformers) (3.12.2)\n",
            "Requirement already satisfied: huggingface-hub<1.0,>=0.15.1 in /usr/local/lib/python3.10/dist-packages (from transformers) (0.16.4)\n",
            "Requirement already satisfied: numpy>=1.17 in /usr/local/lib/python3.10/dist-packages (from transformers) (1.23.5)\n",
            "Requirement already satisfied: packaging>=20.0 in /usr/local/lib/python3.10/dist-packages (from transformers) (23.1)\n",
            "Requirement already satisfied: pyyaml>=5.1 in /usr/local/lib/python3.10/dist-packages (from transformers) (6.0.1)\n",
            "Requirement already satisfied: regex!=2019.12.17 in /usr/local/lib/python3.10/dist-packages (from transformers) (2023.6.3)\n",
            "Requirement already satisfied: requests in /usr/local/lib/python3.10/dist-packages (from transformers) (2.31.0)\n",
            "Requirement already satisfied: tokenizers!=0.11.3,<0.14,>=0.11.1 in /usr/local/lib/python3.10/dist-packages (from transformers) (0.13.3)\n",
            "Requirement already satisfied: safetensors>=0.3.1 in /usr/local/lib/python3.10/dist-packages (from transformers) (0.3.3)\n",
            "Requirement already satisfied: tqdm>=4.27 in /usr/local/lib/python3.10/dist-packages (from transformers) (4.66.1)\n",
            "Requirement already satisfied: fsspec in /usr/local/lib/python3.10/dist-packages (from huggingface-hub<1.0,>=0.15.1->transformers) (2023.6.0)\n",
            "Requirement already satisfied: typing-extensions>=3.7.4.3 in /usr/local/lib/python3.10/dist-packages (from huggingface-hub<1.0,>=0.15.1->transformers) (4.7.1)\n",
            "Requirement already satisfied: charset-normalizer<4,>=2 in /usr/local/lib/python3.10/dist-packages (from requests->transformers) (3.2.0)\n",
            "Requirement already satisfied: idna<4,>=2.5 in /usr/local/lib/python3.10/dist-packages (from requests->transformers) (3.4)\n",
            "Requirement already satisfied: urllib3<3,>=1.21.1 in /usr/local/lib/python3.10/dist-packages (from requests->transformers) (2.0.4)\n",
            "Requirement already satisfied: certifi>=2017.4.17 in /usr/local/lib/python3.10/dist-packages (from requests->transformers) (2023.7.22)\n",
            "Requirement already satisfied: timm in /usr/local/lib/python3.10/dist-packages (0.9.6)\n",
            "Requirement already satisfied: torch>=1.7 in /usr/local/lib/python3.10/dist-packages (from timm) (2.0.1+cu118)\n",
            "Requirement already satisfied: torchvision in /usr/local/lib/python3.10/dist-packages (from timm) (0.15.2+cu118)\n",
            "Requirement already satisfied: pyyaml in /usr/local/lib/python3.10/dist-packages (from timm) (6.0.1)\n",
            "Requirement already satisfied: huggingface-hub in /usr/local/lib/python3.10/dist-packages (from timm) (0.16.4)\n",
            "Requirement already satisfied: safetensors in /usr/local/lib/python3.10/dist-packages (from timm) (0.3.3)\n",
            "Requirement already satisfied: filelock in /usr/local/lib/python3.10/dist-packages (from torch>=1.7->timm) (3.12.2)\n",
            "Requirement already satisfied: typing-extensions in /usr/local/lib/python3.10/dist-packages (from torch>=1.7->timm) (4.7.1)\n",
            "Requirement already satisfied: sympy in /usr/local/lib/python3.10/dist-packages (from torch>=1.7->timm) (1.12)\n",
            "Requirement already satisfied: networkx in /usr/local/lib/python3.10/dist-packages (from torch>=1.7->timm) (3.1)\n",
            "Requirement already satisfied: jinja2 in /usr/local/lib/python3.10/dist-packages (from torch>=1.7->timm) (3.1.2)\n",
            "Requirement already satisfied: triton==2.0.0 in /usr/local/lib/python3.10/dist-packages (from torch>=1.7->timm) (2.0.0)\n",
            "Requirement already satisfied: cmake in /usr/local/lib/python3.10/dist-packages (from triton==2.0.0->torch>=1.7->timm) (3.27.2)\n",
            "Requirement already satisfied: lit in /usr/local/lib/python3.10/dist-packages (from triton==2.0.0->torch>=1.7->timm) (16.0.6)\n",
            "Requirement already satisfied: fsspec in /usr/local/lib/python3.10/dist-packages (from huggingface-hub->timm) (2023.6.0)\n",
            "Requirement already satisfied: requests in /usr/local/lib/python3.10/dist-packages (from huggingface-hub->timm) (2.31.0)\n",
            "Requirement already satisfied: tqdm>=4.42.1 in /usr/local/lib/python3.10/dist-packages (from huggingface-hub->timm) (4.66.1)\n",
            "Requirement already satisfied: packaging>=20.9 in /usr/local/lib/python3.10/dist-packages (from huggingface-hub->timm) (23.1)\n",
            "Requirement already satisfied: numpy in /usr/local/lib/python3.10/dist-packages (from torchvision->timm) (1.23.5)\n",
            "Requirement already satisfied: pillow!=8.3.*,>=5.3.0 in /usr/local/lib/python3.10/dist-packages (from torchvision->timm) (9.4.0)\n",
            "Requirement already satisfied: MarkupSafe>=2.0 in /usr/local/lib/python3.10/dist-packages (from jinja2->torch>=1.7->timm) (2.1.3)\n",
            "Requirement already satisfied: charset-normalizer<4,>=2 in /usr/local/lib/python3.10/dist-packages (from requests->huggingface-hub->timm) (3.2.0)\n",
            "Requirement already satisfied: idna<4,>=2.5 in /usr/local/lib/python3.10/dist-packages (from requests->huggingface-hub->timm) (3.4)\n",
            "Requirement already satisfied: urllib3<3,>=1.21.1 in /usr/local/lib/python3.10/dist-packages (from requests->huggingface-hub->timm) (2.0.4)\n",
            "Requirement already satisfied: certifi>=2017.4.17 in /usr/local/lib/python3.10/dist-packages (from requests->huggingface-hub->timm) (2023.7.22)\n",
            "Requirement already satisfied: mpmath>=0.19 in /usr/local/lib/python3.10/dist-packages (from sympy->torch>=1.7->timm) (1.3.0)\n"
          ]
        }
      ]
    },
    {
      "cell_type": "markdown",
      "source": [
        "## Mount Drive"
      ],
      "metadata": {
        "id": "ZEsq5aF4OPjk"
      }
    },
    {
      "cell_type": "code",
      "source": [
        "from google.colab import drive\n",
        "drive.mount('/content/drive')"
      ],
      "metadata": {
        "colab": {
          "base_uri": "https://localhost:8080/"
        },
        "id": "8pySmxSjORMF",
        "outputId": "e3bfd86e-9f6e-4ceb-bb0e-c29740a9954f",
        "jupyter": {
          "source_hidden": true
        }
      },
      "execution_count": 2,
      "outputs": [
        {
          "output_type": "stream",
          "name": "stdout",
          "text": [
            "Mounted at /content/drive\n"
          ]
        }
      ]
    },
    {
      "cell_type": "markdown",
      "source": [
        "# Utilities"
      ],
      "metadata": {
        "id": "LY6CLUju9BgE"
      }
    },
    {
      "cell_type": "markdown",
      "source": [
        "## Analytical Gaussian Mechanism"
      ],
      "metadata": {
        "id": "PW-rivGmVtYE"
      }
    },
    {
      "cell_type": "code",
      "source": [
        "#Analytical Gaussian Mechanism (taken from https://github.com/BorjaBalle/analytic-gaussian-mechanism/blob/master/agm-example.py)\n",
        "from math import exp, sqrt\n",
        "from scipy.special import erf\n",
        "\n",
        "def cagm(epsilon, delta, GS, tol = 1.e-12):\n",
        "    \"\"\" Calibrate a Gaussian perturbation for differential privacy using the analytic Gaussian mechanism of [Balle and Wang, ICML'18]\n",
        "\n",
        "    Arguments:\n",
        "    epsilon : target epsilon (epsilon > 0)\n",
        "    delta : target delta (0 < delta < 1)\n",
        "    GS : upper bound on L2 global sensitivity (GS >= 0)\n",
        "    tol : error tolerance for binary search (tol > 0)\n",
        "\n",
        "    Output:\n",
        "    sigma : standard deviation of Gaussian noise needed to achieve (epsilon,delta)-DP under global sensitivity GS\n",
        "    \"\"\"\n",
        "\n",
        "    def Phi(t):\n",
        "        return 0.5*(1.0 + erf(float(t)/sqrt(2.0)))\n",
        "\n",
        "    def caseA(epsilon,s):\n",
        "        return Phi(sqrt(epsilon*s)) - exp(epsilon)*Phi(-sqrt(epsilon*(s+2.0)))\n",
        "\n",
        "    def caseB(epsilon,s):\n",
        "        return Phi(-sqrt(epsilon*s)) - exp(epsilon)*Phi(-sqrt(epsilon*(s+2.0)))\n",
        "\n",
        "    def doubling_trick(predicate_stop, s_inf, s_sup):\n",
        "        while(not predicate_stop(s_sup)):\n",
        "            s_inf = s_sup\n",
        "            s_sup = 2.0*s_inf\n",
        "        return s_inf, s_sup\n",
        "\n",
        "    def binary_search(predicate_stop, predicate_left, s_inf, s_sup):\n",
        "        s_mid = s_inf + (s_sup-s_inf)/2.0\n",
        "        while(not predicate_stop(s_mid)):\n",
        "            if (predicate_left(s_mid)):\n",
        "                s_sup = s_mid\n",
        "            else:\n",
        "                s_inf = s_mid\n",
        "            s_mid = s_inf + (s_sup-s_inf)/2.0\n",
        "        return s_mid\n",
        "\n",
        "    delta_thr = caseA(epsilon, 0.0)\n",
        "\n",
        "    if (delta == delta_thr):\n",
        "        alpha = 1.0\n",
        "\n",
        "    else:\n",
        "        if (delta > delta_thr):\n",
        "            predicate_stop_DT = lambda s : caseA(epsilon, s) >= delta\n",
        "            function_s_to_delta = lambda s : caseA(epsilon, s)\n",
        "            predicate_left_BS = lambda s : function_s_to_delta(s) > delta\n",
        "            function_s_to_alpha = lambda s : sqrt(1.0 + s/2.0) - sqrt(s/2.0)\n",
        "\n",
        "        else:\n",
        "            predicate_stop_DT = lambda s : caseB(epsilon, s) <= delta\n",
        "            function_s_to_delta = lambda s : caseB(epsilon, s)\n",
        "            predicate_left_BS = lambda s : function_s_to_delta(s) < delta\n",
        "            function_s_to_alpha = lambda s : sqrt(1.0 + s/2.0) + sqrt(s/2.0)\n",
        "\n",
        "        predicate_stop_BS = lambda s : abs(function_s_to_delta(s) - delta) <= tol\n",
        "\n",
        "        s_inf, s_sup = doubling_trick(predicate_stop_DT, 0.0, 1.0)\n",
        "        s_final = binary_search(predicate_stop_BS, predicate_left_BS, s_inf, s_sup)\n",
        "        alpha = function_s_to_alpha(s_final)\n",
        "\n",
        "    sigma = alpha*GS/sqrt(2.0*epsilon)\n",
        "\n",
        "    return sigma\n",
        "\n"
      ],
      "metadata": {
        "id": "mZoa1mlzVwAv",
        "jupyter": {
          "source_hidden": true
        },
        "execution": {
          "iopub.status.busy": "2023-09-02T14:02:39.677138Z",
          "iopub.execute_input": "2023-09-02T14:02:39.679501Z",
          "iopub.status.idle": "2023-09-02T14:02:39.702155Z",
          "shell.execute_reply.started": "2023-09-02T14:02:39.679461Z",
          "shell.execute_reply": "2023-09-02T14:02:39.700821Z"
        },
        "trusted": true
      },
      "execution_count": 3,
      "outputs": []
    },
    {
      "cell_type": "markdown",
      "source": [
        "## DP Normalized Centroids Model"
      ],
      "metadata": {
        "id": "IwMzNt8FVSsm"
      }
    },
    {
      "cell_type": "code",
      "source": [
        "#Sum!\n",
        "from sklearn.preprocessing import normalize\n",
        "\n",
        "class DP_CentroidClassifier():\n",
        "  def __init__(self, epsilon = 1, delta=0.01):\n",
        "\n",
        "    self.centroids = None\n",
        "    self.centroids_labels = None\n",
        "    self.classes = None\n",
        "    self.epsilon = epsilon\n",
        "    self.delta = delta\n",
        "    self.vars = None\n",
        "    self.prediction_model_type = None\n",
        "    self.prediction_model_object = None\n",
        "\n",
        "\n",
        "  def dp_fit(self, X_train, y_train, amplification_args = None, normalization = True, debug = False,\n",
        "             prediction_model_for_representers = 'cosine_knn'):\n",
        "\n",
        "    self.classes = np.unique(y_train)\n",
        "    self.prediction_model_type = prediction_model_for_representers\n",
        "\n",
        "    centroids_labels = []\n",
        "    centroids = []\n",
        "    sigmas = []\n",
        "    representers_count = 1\n",
        "\n",
        "    # calculate noise\n",
        "    sigma = 0\n",
        "\n",
        "    # possible privacy amplification\n",
        "    if amplification_args != None:\n",
        "      sigma = self.numerical_composition_sigma(**amplification_args)\n",
        "      representers_count = amplification_args['representers_count']\n",
        "\n",
        "    else:\n",
        "      sigma = cagm(self.epsilon, self.delta, 1)\n",
        "\n",
        "\n",
        "\n",
        "    X_train_clipped = normalize(X_train)\n",
        "\n",
        "    #no feature normalization\n",
        "    if debug:\n",
        "      X_train_clipped = X_train\n",
        "\n",
        "\n",
        "\n",
        "    for representer in range(representers_count):\n",
        "\n",
        "      if amplification_args != None:\n",
        "        sampling_prob = amplification_args['sampling_probability']\n",
        "        X, y = self.privacy_amplification(sampling_prob, X_train_clipped, y_train)\n",
        "\n",
        "      else:\n",
        "        X = X_train_clipped\n",
        "        y = y_train\n",
        "\n",
        "      for c in self.classes:\n",
        "        #calculate sum\n",
        "        class_centroid = 0\n",
        "        class_centroid += np.sum(X[y == c], axis=0)\n",
        "\n",
        "        #perturb class mean\n",
        "        noisy_class_centroid = self.perturb_features(class_centroid, sigma)\n",
        "        centroids.append(noisy_class_centroid)\n",
        "        centroids_labels.append(c)\n",
        "\n",
        "\n",
        "\n",
        "    self.centroids_labels = np.array(centroids_labels)\n",
        "\n",
        "    centroids = np.array(centroids)\n",
        "\n",
        "    if normalization:\n",
        "      self.centroids = normalize(centroids)\n",
        "\n",
        "    else:\n",
        "      self.centroids = centroids\n",
        "\n",
        "\n",
        "    match self.prediction_model_type:\n",
        "      case 'cosine_knn':\n",
        "        pass\n",
        "\n",
        "      case 'l2_knn':\n",
        "        pass\n",
        "\n",
        "      case 'logistic_regression':\n",
        "        from sklearn.linear_model import LogisticRegression as LR\n",
        "        lr = LR()\n",
        "        lr.fit(self.centroids, self.centroids_labels)\n",
        "        self.prediction_model_object = lr\n",
        "\n",
        "      case other:\n",
        "        print('prediction model type is non-default!')\n",
        "\n",
        "\n",
        "  def predict_proba(self, X_test):\n",
        "    n_samples = X_test.shape[0]\n",
        "    y_test_probs = np.zeros((n_samples, len(self.classes)))\n",
        "\n",
        "\n",
        "    for i in range(n_samples):\n",
        "      #calculate distance from centroids\n",
        "      dists = np.linalg.norm(X_test[i,:] - self.centroids, axis = 1)\n",
        "\n",
        "      #use softmax to transform dists to probabilities\n",
        "      from scipy.special import softmax\n",
        "      y_test_probs[i,:] = 1 - softmax(dists)\n",
        "\n",
        "    return y_test_probs\n",
        "\n",
        "\n",
        "\n",
        "  def predict(self, X_test):\n",
        "\n",
        "    n_samples = X_test.shape[0]\n",
        "    y_test = np.zeros(n_samples)\n",
        "\n",
        "    match self.prediction_model_type:\n",
        "      case 'cosine_knn':\n",
        "        for i in range(n_samples):\n",
        "          dists = dists = -X_test[i,:]@(self.centroids.T)\n",
        "          y_test[i] = self.centroids_labels[np.argmin(dists)]\n",
        "\n",
        "      case 'l2_knn':\n",
        "        for i in range(n_samples):\n",
        "          dists = np.linalg.norm(X_test[i,:] - self.centroids, axis = 1)\n",
        "          y_test[i] = self.centroids_labels[np.argmin(dists)]\n",
        "\n",
        "      case 'logistic_regression':\n",
        "        lr = self.prediction_model_object\n",
        "        y_test = lr.predict(normalize(X_test))\n",
        "\n",
        "      case other:\n",
        "        print('prediction model type is non-default (should have been warned before!)')\n",
        "\n",
        "\n",
        "\n",
        "    return y_test\n",
        "\n",
        "\n",
        "  def score(self, X_test, y_test):\n",
        "\n",
        "    predictions = self.predict(X_test)\n",
        "    predictions = predictions.reshape(y_test.shape[0])\n",
        "    return (np.sum(predictions == y_test.reshape(y_test.shape[0]))/y_test.shape[0])\n",
        "\n",
        "\n",
        "  def calculate_entropy(self, X):\n",
        "\n",
        "    from scipy.stats import entropy\n",
        "    centroids = self.centroids\n",
        "    classes = self.classes\n",
        "\n",
        "\n",
        "    probs = self.predict_proba(X)\n",
        "    ents = entropy(probs, axis=1)\n",
        "\n",
        "    return ents\n",
        "\n",
        "\n",
        "  def perturb_features(self, X_train, sigma, private_labels = False):\n",
        "\n",
        "    #add noise\n",
        "    X_noisy = X_train + sigma*np.random.standard_normal(X_train.shape)\n",
        "\n",
        "    return X_noisy\n",
        "\n",
        "\n",
        "\n",
        "\n",
        "  def privacy_amplification(self, q, X, y):\n",
        "    X_sampled = []\n",
        "    y_sampled = []\n",
        "\n",
        "    for c in self.classes:\n",
        "        X_class_sampled, y_class_sampled = self.per_class_privacy_amplification(q,\n",
        "                                                     X[y == c], y[y == c])\n",
        "        X_sampled.append(X_class_sampled)\n",
        "        y_sampled.append(y_class_sampled)\n",
        "\n",
        "    X_sampled = np.concatenate(X_sampled)\n",
        "    y_sampled = np.concatenate(y_sampled)\n",
        "\n",
        "    return X_sampled, y_sampled\n",
        "\n",
        "\n",
        "  def per_class_privacy_amplification(self, q, X, y):\n",
        "    n_samples = X.shape[0]\n",
        "    sampled_indices = np.random.binomial(1, q, n_samples)\n",
        "    return X[sampled_indices == 1], y[sampled_indices == 1]\n",
        "\n",
        "\n",
        "\n",
        "  def numerical_composition_sigma(self, sampling_probability = 0.1, representers_count = 10):\n",
        "    from prv_accountant.dpsgd import find_noise_multiplier\n",
        "\n",
        "    return find_noise_multiplier(sampling_probability, num_steps = representers_count,\n",
        "                                 target_epsilon = self.epsilon, target_delta = self.delta, eps_error=self.epsilon/10)\n"
      ],
      "metadata": {
        "id": "L9ZlyBulVZNi",
        "jupyter": {
          "source_hidden": true
        },
        "execution": {
          "iopub.status.busy": "2023-09-02T14:02:39.722825Z",
          "iopub.execute_input": "2023-09-02T14:02:39.723816Z",
          "iopub.status.idle": "2023-09-02T14:02:39.767058Z",
          "shell.execute_reply.started": "2023-09-02T14:02:39.723782Z",
          "shell.execute_reply": "2023-09-02T14:02:39.765986Z"
        },
        "trusted": true
      },
      "execution_count": 4,
      "outputs": []
    },
    {
      "cell_type": "markdown",
      "source": [
        "## Deep Models"
      ],
      "metadata": {
        "id": "t2WkgnT99XDH"
      }
    },
    {
      "cell_type": "code",
      "source": [
        "class ModelExperiment():\n",
        "  def __init__(self, model_name = 'dino_vitb16'):\n",
        "    self.model_name = model_name\n",
        "    self.models = dict()\n",
        "\n",
        "    self.download()\n",
        "\n",
        "  def download(self):\n",
        "    models = dict()\n",
        "\n",
        "    match self.model_name:\n",
        "\n",
        "      # Vision Models\n",
        "      case 'resnet50':\n",
        "        models['model'] = torchvision.models.resnet50(weights = 'DEFAULT')\n",
        "\n",
        "      case 'resnet152':\n",
        "        models['model'] = torchvision.models.resnet152(weights = 'DEFAULT')\n",
        "\n",
        "      case 'dino_vitb16':\n",
        "        models['model'] = transformers.ViTModel.from_pretrained('facebook/dino-vitb16')\n",
        "\n",
        "      case 'msn_vitb16':\n",
        "        models['model'] = transformers.ViTMSNModel.from_pretrained('facebook/vit-msn-base')\n",
        "\n",
        "\n",
        "      # NLP Models\n",
        "      case 'data2vec':\n",
        "        hf_path = 'facebook/data2vec-text-base'\n",
        "        models['autotokenizer'] = transformers.AutoTokenizer.from_pretrained(hf_path)\n",
        "        models['model'] = transformers.AutoModel.from_pretrained(hf_path)\n",
        "\n",
        "      case 'unsup_simcse_roberta_base':\n",
        "        hf_path = 'princeton-nlp/unsup-simcse-roberta-base'\n",
        "        models['autotokenizer'] = transformers.AutoTokenizer.from_pretrained(hf_path)\n",
        "        models['model'] = transformers.AutoModel.from_pretrained(hf_path)\n",
        "\n",
        "      case 'unsup_simcse_roberta_large':\n",
        "        hf_path = 'princeton-nlp/unsup-simcse-roberta-large'\n",
        "        models['autotokenizer'] = transformers.AutoTokenizer.from_pretrained(hf_path)\n",
        "        models['model'] = transformers.AutoModel.from_pretrained(hf_path)\n",
        "\n",
        "      case 'sup_simcse_roberta_base':\n",
        "        hf_path = 'princeton-nlp/sup-simcse-roberta-base'\n",
        "        models['autotokenizer'] = transformers.AutoTokenizer.from_pretrained(hf_path)\n",
        "        models['model'] = transformers.AutoModel.from_pretrained(hf_path)\n",
        "\n",
        "      case 'sup_simcse_roberta_large':\n",
        "        hf_path = 'princeton-nlp/sup-simcse-roberta-large'\n",
        "        models['autotokenizer'] = transformers.AutoTokenizer.from_pretrained(hf_path)\n",
        "        models['model'] = transformers.AutoModel.from_pretrained(hf_path)\n",
        "\n",
        "      case 'sup_simcse_bert_base':\n",
        "        hf_path = 'princeton-nlp/sup-simcse-bert-large-uncased'\n",
        "        models['autotokenizer'] = transformers.AutoTokenizer.from_pretrained(hf_path)\n",
        "        models['model'] = transformers.AutoModel.from_pretrained(hf_path)\n",
        "\n",
        "      case 'sup_simcse_bert_large':\n",
        "        hf_path = 'princeton-nlp/sup-simcse-bert-large-uncased'\n",
        "        models['autotokenizer'] = transformers.AutoTokenizer.from_pretrained(hf_path)\n",
        "        models['model'] = transformers.AutoModel.from_pretrained(hf_path)\n",
        "\n",
        "      case other:\n",
        "        print('Model identifier not found!, possible models: ')\n",
        "        print(self.get_default_models())\n",
        "\n",
        "    self.models = models\n",
        "\n",
        "  def get_model(self):\n",
        "    return self.models\n",
        "\n",
        "\n",
        "  def get_default_models(self):\n",
        "    default_models = dict()\n",
        "    vision_models = ['dino', 'msn', 'resnet (152, 50)', 'simclrv2']\n",
        "    nlp_models = ['data2vec', 'simcse sup roberta large, base', 'simcse unsup roberta large, base', 'simcse sup bert large, base']\n",
        "    default_models['vision'] = vision_models\n",
        "    default_models['nlp'] = nlp_models\n",
        "    return default_models\n",
        "\n"
      ],
      "metadata": {
        "id": "s7LNXqS09CWN",
        "jupyter": {
          "source_hidden": true
        },
        "execution": {
          "iopub.status.busy": "2023-09-02T14:02:39.771891Z",
          "iopub.execute_input": "2023-09-02T14:02:39.772609Z",
          "iopub.status.idle": "2023-09-02T14:02:39.795732Z",
          "shell.execute_reply.started": "2023-09-02T14:02:39.772577Z",
          "shell.execute_reply": "2023-09-02T14:02:39.794708Z"
        },
        "trusted": true
      },
      "execution_count": 5,
      "outputs": []
    },
    {
      "cell_type": "markdown",
      "source": [
        "## Datasets"
      ],
      "metadata": {
        "id": "S6-oN3JH9X9j"
      }
    },
    {
      "cell_type": "code",
      "source": [
        "from torchvision import datasets, transforms\n",
        "\n",
        "class DatasetExperiment():\n",
        "  def __init__(self, name = 'cifar10_torch', task_name = None, preprocessing_args = {'type' : None}):\n",
        "    self.name = name\n",
        "    self.task_name = task_name\n",
        "    self.class_descriptions = None\n",
        "\n",
        "    self.transform = self.create_transform(preprocessing_args)\n",
        "    self.download()\n",
        "\n",
        "\n",
        "  def download(self):\n",
        "    # pytorch\n",
        "    match self.name:\n",
        "      case 'cifar10_torch':\n",
        "        self.train_data = torchvision.datasets.CIFAR10(root='./data', train=True,\n",
        "                                          download=True, transform=self.transform)\n",
        "        self.test_data = torchvision.datasets.CIFAR10(root='./data', train=False,\n",
        "                                              download=True, transform=self.transform)\n",
        "\n",
        "        self.classes = ('plane', 'car', 'bird', 'cat',\n",
        "            'deer', 'dog', 'frog', 'horse', 'ship', 'truck')\n",
        "\n",
        "      # simclrv2\n",
        "      case 'cifar10_tf':\n",
        "        (xtrain, ytrain), (xtest, ytest) = tf.keras.datasets.cifar10.load_data()\n",
        "        xtrain = xtrain.astype(np.float32) / 255.0\n",
        "        xtest = xtest.astype(np.float32) / 255.0\n",
        "        y_train = ytrain.reshape(-1)\n",
        "        y_test = ytest.reshape(-1)\n",
        "\n",
        "      case 'mnist_torch':\n",
        "        self.train_data = torchvision.datasets.MNIST(root='./data', train=True,\n",
        "                                          download=True, transform=self.transform)\n",
        "        self.test_data = torchvision.datasets.MNIST(root='./data', train=False,\n",
        "                                              download=True, transform=self.transform)\n",
        "\n",
        "\n",
        "\n",
        "\n",
        "      # huggingface nlp data\n",
        "      case 'glue':\n",
        "        task = self.task_name\n",
        "        dataset = datasets.load_dataset('glue', task)\n",
        "        train_dataset = dataset['train']\n",
        "        test_dataset = dataset['validation']\n",
        "        train_dataset.set_format(type = 'torch')\n",
        "        test_dataset.set_format(type = 'torch')\n",
        "\n",
        "\n",
        "      case other:\n",
        "        print('Dataset identifier not found!')\n",
        "\n",
        "\n",
        "  # preprocess data\n",
        "  # -- preprocessing arguments --\n",
        "  # type : 'imagenet' (normal without resize), 'imagenet_resize' (normal with resize for transformers)\n",
        "  # size : 224 for vit-b/16 transformers\n",
        "  def create_transform(self, preprocessing_args):\n",
        "    transform = None\n",
        "\n",
        "    preprocessing_type = preprocessing_args['type']\n",
        "\n",
        "    grayscale_transform = None\n",
        "    if self.name in ['mnist_torch', 'fashion_mnist_torch']:\n",
        "      grayscale_transform = transforms.Grayscale(3)\n",
        "\n",
        "    resize_transform = None\n",
        "    if preprocessing_type.endswith('resize'):\n",
        "      size = preprocessing_args['resize_size']\n",
        "      resize_transform = transforms.Resize(size)\n",
        "\n",
        "    match preprocessing_type:\n",
        "\n",
        "      # imagenet pretrained\n",
        "      case 'imagenet' | 'imagenet_resize':\n",
        "        transform = transforms.Compose(\n",
        "        [   grayscale_transform,\n",
        "            resize_transform,\n",
        "            transforms.ToTensor(),\n",
        "        transforms.Normalize((0.5, 0.5, 0.5), (0.2, 0.2, 0.2))])\n",
        "\n",
        "\n",
        "      ## TODO\n",
        "      case 'imagenet_simclr':\n",
        "        pass\n",
        "\n",
        "      case None:\n",
        "        pass\n",
        "\n",
        "      case other:\n",
        "        print('Preprocessing pipeline identifier not found!')\n",
        "\n",
        "    return transform\n",
        "\n",
        "\n",
        "\n",
        "  # return dataloaders for train and test data.\n",
        "  # -- dataloader args --\n",
        "  # batch_size\n",
        "  def get_dataloaders(self, dataloader_args = dict()):\n",
        "    train_dataloader = DataLoader(self.train_data, **dataloader_args)\n",
        "    test_dataloader = DataLoader(self.test_data, **dataloader_args)\n",
        "\n",
        "    return train_dataloader, test_dataloader\n",
        "\n",
        "\n",
        "\n",
        "\n",
        "# stores features\n",
        "def store_features(features, root, experiment_identifier = '_'):\n",
        "\n",
        "  parent_path = root\n",
        "\n",
        "  if not root.endswith('/'):\n",
        "    parent_path += '/'\n",
        "\n",
        "  for key in features.keys():\n",
        "    path = parent_path + experiment_identifier + '_' + key\n",
        "    np.save(path, features[key])\n",
        "\n",
        "\n",
        "# loads features as a dictionary\n",
        "def load_features(root, experiment_identifier, keys):\n",
        "  features = dict()\n",
        "\n",
        "  if root.endswith('/'):\n",
        "    parent_path = root + experiment_identifier + '_'\n",
        "\n",
        "  else:\n",
        "    parent_path = root + '/' + experiment_identifier + '_'\n",
        "\n",
        "  for key in keys:\n",
        "    path = parent_path + key + \".npy\"\n",
        "    features[key] = np.load(path)\n",
        "\n",
        "  return features\n",
        "\n",
        "\n",
        "\n",
        "def get_dataloader_from_xy(X, y, dataloader_args):\n",
        "    dataset = TensorDataset(torch.from_numpy(X), torch.from_numpy(y))\n",
        "    dataloader = DataLoader(dataset, **dataloader_args)\n",
        "\n",
        "    return dataloader\n"
      ],
      "metadata": {
        "id": "onA73KUjBXQI",
        "jupyter": {
          "source_hidden": true
        },
        "execution": {
          "iopub.status.busy": "2023-09-02T14:02:39.800421Z",
          "iopub.execute_input": "2023-09-02T14:02:39.803276Z",
          "iopub.status.idle": "2023-09-02T14:02:39.832891Z",
          "shell.execute_reply.started": "2023-09-02T14:02:39.803241Z",
          "shell.execute_reply": "2023-09-02T14:02:39.831980Z"
        },
        "trusted": true
      },
      "execution_count": 6,
      "outputs": []
    },
    {
      "cell_type": "markdown",
      "source": [
        "### SimCLR Preprocessin"
      ],
      "metadata": {
        "id": "JSebpT9gU9Il"
      }
    },
    {
      "cell_type": "code",
      "source": [
        "\n",
        "# preprocessing functions for SimCLR\n"
      ],
      "metadata": {
        "id": "pP5NQFHCVBGI",
        "jupyter": {
          "source_hidden": true
        }
      },
      "execution_count": 7,
      "outputs": []
    },
    {
      "cell_type": "markdown",
      "source": [
        "## Feature Extraction"
      ],
      "metadata": {
        "id": "fSDragQuEJvV"
      }
    },
    {
      "cell_type": "code",
      "source": [
        "from tqdm import tqdm\n",
        "\n",
        "class ImageFeatureExtractor_Torch():\n",
        "  def __init__(self, model, model_name):\n",
        "    self.model = model\n",
        "    self.model_name = model_name\n",
        "\n",
        "    # a dict to store the activations\n",
        "    self.activation = None\n",
        "    self.hook = None\n",
        "    self.hook_models = ['resnet50', 'resnet152']\n",
        "\n",
        "  # extract features\n",
        "  def extract(self, dataloader, device, verbose = True):\n",
        "\n",
        "    # possibly register hook. the function checks model name to make sure a hook is needed\n",
        "    self.register_hook()\n",
        "\n",
        "\n",
        "    # initializations\n",
        "    X, y = [], []\n",
        "    self.model.eval()\n",
        "\n",
        "    # feature extraction loop\n",
        "    with torch.no_grad():\n",
        "      # train features\n",
        "      print(\"###Extracting features###\")\n",
        "\n",
        "      if verbose:\n",
        "        dataloader_iterator = enumerate(tqdm(dataloader))\n",
        "\n",
        "      else:\n",
        "        dataloader_iterator = enumerate(dataloader)\n",
        "\n",
        "      for i, (input, target) in dataloader_iterator:\n",
        "\n",
        "        outputs = self.model(input.to(device))\n",
        "        embeddings = self.get_embeddings(outputs)\n",
        "        X.append(embeddings.cpu().numpy().squeeze())\n",
        "        y.append(target.cpu().numpy())\n",
        "\n",
        "    print(\"Done\")\n",
        "\n",
        "\n",
        "    # numpyify the features!\n",
        "    X = np.concatenate(X)\n",
        "    y = np.concatenate(y)\n",
        "\n",
        "    if self.hook:\n",
        "      self.hook.remove()\n",
        "\n",
        "    return X, y\n",
        "\n",
        "\n",
        "  # TODO\n",
        "  def get_embeddings(self, outputs):\n",
        "\n",
        "    match self.model_name:\n",
        "      case 'dino_vitb16':\n",
        "        ## DINO ViTb16\n",
        "        embeddings = outputs.last_hidden_state[:,0]\n",
        "\n",
        "      case 'msn_vitb16':\n",
        "        embeddings = outputs.last_hidden_state[:,0]\n",
        "\n",
        "      case 'resnet50':\n",
        "        embeddings = self.activation['feats']\n",
        "\n",
        "      case other:\n",
        "        print(\"embeddings not found for model!\")\n",
        "        return\n",
        "\n",
        "    return embeddings\n",
        "\n",
        "\n",
        "\n",
        "  # torch method for restoring activations\n",
        "  def getActivation(self, name):\n",
        "    self.activation = dict()\n",
        "    # the hook signature\n",
        "    def hook(model, input, output):\n",
        "      self.activation[name] = output.detach()\n",
        "    return hook\n",
        "\n",
        "\n",
        "  # register hook\n",
        "  def register_hook(self):\n",
        "\n",
        "    if self.model_name in self.hook_models:\n",
        "      match self.model_name:\n",
        "        case 'resnet50':\n",
        "            final_embedding_layer = model.avgpool\n",
        "        case other:\n",
        "            print(\"error while registering hook!\")\n",
        "\n",
        "      # register forward hooks on the final embedding layer\n",
        "      self.hook = final_embedding_layer.register_forward_hook(self.getActivation('feats'))\n",
        "\n",
        "    else:\n",
        "      return\n",
        "\n",
        "\n",
        "\n",
        "\n",
        "\n",
        "\n",
        "\n",
        "  class SentenceClassificationFeatureExtractor_HF():\n",
        "    def __init__(self, model, model_name, tokenizer):\n",
        "      self.model = model\n",
        "      self.model_name = model_name\n",
        "      self.tokenizer = tokenizer\n",
        "      self.embedding_type = None\n",
        "\n",
        "      match model_name:\n",
        "        case 'simcse_roberta':\n",
        "          self.embedding_type = 'last_hidden_states'\n",
        "        case other:\n",
        "          print('model name not defined')\n",
        "          return\n",
        "\n",
        "    def extract(self, dataloader, device, dataset_name, task_name):\n",
        "      # find correct keys to access text features using dataset and task name\n",
        "      input_id, output_id, idx_id = None, None, None\n",
        "\n",
        "      match dataset_name:\n",
        "        case 'glue':\n",
        "\n",
        "          match task_name:\n",
        "            case 'sst2':\n",
        "              input_id = 'sentence'\n",
        "              output_id = 'label'\n",
        "              idx_id = 'idx'\n",
        "\n",
        "            case other:\n",
        "              print('task identifier not found')\n",
        "              return\n",
        "\n",
        "        case other:\n",
        "          print('dataset identifier not found')\n",
        "          return\n",
        "\n",
        "\n",
        "      X, y, idx = [], [], []\n",
        "      dataloader_iterable = enumerate(tqdm(dataloader))\n",
        "\n",
        "      self.model.eval()\n",
        "      with torch.no_grad():\n",
        "        print(\"Extracting embeddings!\")\n",
        "\n",
        "        for input, features in dataloader_iterable:\n",
        "          idx.append((features[idx_id]).cpu().numpy())\n",
        "          y.append(features[output_id].cpu().numpy())\n",
        "\n",
        "          sentences = features[input_id]\n",
        "          inputs = self.tokenizer(sentences, padding=True, truncation=True, return_tensors=\"pt\").to(device)\n",
        "\n",
        "          match self.embedding_type:\n",
        "            case 'last_hidden_states':\n",
        "              embeddings = self.model(**inputs, output_hidden_states=True, return_dict=True).last_hidden_state[:,0].to(device)\n",
        "\n",
        "            case 'pooler_output':\n",
        "              embeddings = model(**inputs, output_hidden_states=True, return_dict=True).pooler_output.to(device)\n",
        "\n",
        "            case other:\n",
        "              print('embedding type not defined')\n",
        "              return\n",
        "\n",
        "          X.append(embeddings.cpu().numpy())\n",
        "\n",
        "      print('Done')\n",
        "      return np.concatenate(X), np.concatenate(y), np.concatenate(idx)\n",
        "\n",
        "\n",
        "\n",
        "\n"
      ],
      "metadata": {
        "id": "N05oev5LGgi1",
        "execution": {
          "iopub.status.busy": "2023-09-02T14:05:58.840125Z",
          "iopub.execute_input": "2023-09-02T14:05:58.840485Z",
          "iopub.status.idle": "2023-09-02T14:05:58.863608Z",
          "shell.execute_reply.started": "2023-09-02T14:05:58.840456Z",
          "shell.execute_reply": "2023-09-02T14:05:58.862664Z"
        },
        "jupyter": {
          "source_hidden": true
        },
        "trusted": true
      },
      "execution_count": 8,
      "outputs": []
    },
    {
      "cell_type": "markdown",
      "source": [
        "## Evaluations"
      ],
      "metadata": {
        "id": "rnTveNKN9ZgE"
      }
    },
    {
      "cell_type": "code",
      "source": [
        "import matplotlib.pyplot as plt\n",
        "import seaborn as sns\n",
        "sns.set_theme()\n",
        "\n",
        "from tqdm import tqdm\n",
        "\n",
        "def accuracy_epsilon_sweep(dp_params = dict(), data = dict(), model_type = 'dp_normalized_centroids', dp_mechanism_args = dict()):\n",
        "  delta = dp_params['delta']\n",
        "  eps = dp_params['epsilons']\n",
        "  accs = []\n",
        "\n",
        "  # sweep epsilons\n",
        "  for epsilon in tqdm(eps):\n",
        "\n",
        "    # model\n",
        "    if model_type == 'dp_normalized_centroids':\n",
        "      X_train = data['X_train']\n",
        "      X_test = data['X_test']\n",
        "      y_train = data['y_train']\n",
        "      y_test = data['y_test']\n",
        "\n",
        "      dpc = DP_CentroidClassifier(epsilon = epsilon, delta = delta)\n",
        "      dpc.dp_fit(X_train, y_train, **dp_mechanism_args)\n",
        "      acc = dpc.score(X_test, y_test)\n",
        "\n",
        "    # different privacy mechanisms?\n",
        "    else:\n",
        "      acc = 0\n",
        "\n",
        "    accs.append(acc)\n",
        "\n",
        "  return accs\n",
        "\n",
        "def plot_epsilon_sweep(eps, accs, dataset_name = 'CIFAR-10', backbone_name = 'Dino ViT/16b'):\n",
        "  plt.scatter(eps, accs)\n",
        "  plt.title(f'{dataset_name} Accuracy With {backbone_name} Backbone')\n",
        "  plt.xlabel('Epsilon')\n",
        "  plt.ylabel('Accuracy')\n",
        "\n",
        "\n",
        "def plot_dict(y_dict = dict(), x = [], title='', ylabel = 'Accuracy', xlabel = 'Epsilon'):\n",
        "\n",
        "  keys = y_dict.keys()\n",
        "  legends = []\n",
        "  for key in keys:\n",
        "    plt.scatter(x, y_dict[key])\n",
        "    legends.append(key)\n",
        "\n",
        "  plt.legend(legends)\n",
        "  plt.xlabel(xlabel)\n",
        "  plt.ylabel(ylabel)\n",
        "  plt.title(title)\n",
        "\n",
        "\n",
        "def plot_hist_dict(data_dict = dict(), title = '', histogram_args = dict()):\n",
        "  for key in data_dict.keys():\n",
        "    plt.hist(data_dict[key], **histogram_args)\n",
        "\n",
        "  plt.title(title)\n",
        "  plt.legend(data_dict.keys())\n",
        "\n",
        "\n",
        "def sample_dot_products(X, y, iterations):\n",
        "\n",
        "  from tqdm import tqdm\n",
        "\n",
        "  intra_class_dot_products = []\n",
        "  inter_class_dot_products = []\n",
        "\n",
        "  classes = np.unique(y)\n",
        "  n_classes = len(classes)\n",
        "\n",
        "  class_features = []\n",
        "  features_per_class_count = []\n",
        "\n",
        "  for i in range(n_classes):\n",
        "    class_features.append(X[np.nonzero(y == classes[i])])\n",
        "    features_per_class_count.append(class_features[i].shape[0])\n",
        "\n",
        "\n",
        "\n",
        "  print('Sampling Intra Class Dot Products!')\n",
        "\n",
        "  for i in tqdm(range(iterations)):\n",
        "\n",
        "    #choose a class\n",
        "    sampled_class = np.random.randint(n_classes)\n",
        "\n",
        "    #sample embeddings\n",
        "    emb1 =  class_features[sampled_class][np.random.randint(features_per_class_count[sampled_class]),:]\n",
        "    emb2 =  class_features[sampled_class][np.random.randint(features_per_class_count[sampled_class]),:]\n",
        "\n",
        "    #normalize embeddings\n",
        "    emb1 /= np.linalg.norm(emb1)\n",
        "    emb2 /= np.linalg.norm(emb2)\n",
        "\n",
        "    intra_class_dot_products.append(np.dot(emb1, emb2))\n",
        "\n",
        "\n",
        "\n",
        "\n",
        "  print('Sampling Inter Class Dot Products!')\n",
        "\n",
        "  for i in tqdm(range(iterations)):\n",
        "\n",
        "    #choose two different classes\n",
        "    sampled_classes = np.random.choice(n_classes, size = 2, replace = False)\n",
        "\n",
        "    #sample embeddings\n",
        "    emb1 =  class_features[sampled_classes[0]][np.random.randint(features_per_class_count[sampled_class]),:]\n",
        "    emb2 =  class_features[sampled_classes[1]][np.random.randint(features_per_class_count[sampled_class]),:]\n",
        "\n",
        "    #normalize embeddings\n",
        "    emb1 /= np.linalg.norm(emb1)\n",
        "    emb2 /= np.linalg.norm(emb2)\n",
        "\n",
        "    inter_class_dot_products.append(np.dot(emb1, emb2))\n",
        "\n",
        "  dot_products = {'intra class': intra_class_dot_products, 'inter class': inter_class_dot_products}\n",
        "\n",
        "  return dot_products\n",
        "\n",
        "\n",
        "def sample_per_class_dot_products(X, y, iterations, class_names):\n",
        "  from sklearn.preprocessing import normalize\n",
        "  from tqdm import tqdm\n",
        "\n",
        "  classes = np.unique(y)\n",
        "  n_classes = len(classes)\n",
        "\n",
        "  class_features = []\n",
        "  features_per_class_count = []\n",
        "\n",
        "  for i in range(n_classes):\n",
        "    class_features.append(X[np.nonzero(y == classes[i])])\n",
        "    features_per_class_count.append(class_features[i].shape[0])\n",
        "\n",
        "\n",
        "\n",
        "  print('Sampling Per Class Dot Products')\n",
        "\n",
        "  dot_products_per_class = dict()\n",
        "\n",
        "  for i in tqdm(range(n_classes)):\n",
        "    class_centroid = np.sum(X[y == classes[i]], axis=0)\n",
        "    class_centroid = normalize(class_centroid.reshape(1,-1))\n",
        "    class_dot_products = []\n",
        "\n",
        "    for j in range(iterations):\n",
        "\n",
        "      #sample embeddings\n",
        "      emb_sample = class_features[i][np.random.randint(features_per_class_count[i]),:]\n",
        "\n",
        "      # normalize sample\n",
        "      emb_sample = normalize(emb_sample.reshape(1,-1))\n",
        "\n",
        "      class_dot_products.append(emb_sample@class_centroid.T)\n",
        "\n",
        "    dot_products_per_class[class_names[classes[i]]] = np.array(class_dot_products).squeeze()\n",
        "\n",
        "  return dot_products_per_class\n",
        "\n",
        "\n",
        "def plot_dot_products(X, y, iterations_full, iterations_per_class, class_names = dict(),\n",
        "                      histogram_args = dict(), suptitle = 'Distribution of Dot Products'):\n",
        "\n",
        "  dot_products_per_class = sample_per_class_dot_products(X, y, iterations_per_class, class_names = class_names)\n",
        "  dot_products = sample_dot_products(X, y, iterations_full)\n",
        "\n",
        "\n",
        "  plt.figure(figsize=(14,6))\n",
        "  plt.suptitle(suptitle)\n",
        "\n",
        "  plt.subplot(1,2,1)\n",
        "  plot_hist_dict(dot_products, title = 'Overall', histogram_args=histogram_args)\n",
        "\n",
        "  plt.subplot(1,2,2)\n",
        "  plot_hist_dict(dot_products_per_class, title='Per Class', histogram_args=histogram_args)\n",
        "\n",
        "\n"
      ],
      "metadata": {
        "id": "72HBUdcWV4j-",
        "jupyter": {
          "source_hidden": true
        },
        "execution": {
          "iopub.status.busy": "2023-09-02T14:02:39.877782Z",
          "iopub.execute_input": "2023-09-02T14:02:39.878250Z",
          "iopub.status.idle": "2023-09-02T14:02:39.922525Z",
          "shell.execute_reply.started": "2023-09-02T14:02:39.878220Z",
          "shell.execute_reply": "2023-09-02T14:02:39.921476Z"
        },
        "trusted": true
      },
      "execution_count": 9,
      "outputs": []
    },
    {
      "cell_type": "markdown",
      "source": [
        "## Trainer"
      ],
      "metadata": {
        "id": "ZNLIZ6VXC7d_"
      }
    },
    {
      "cell_type": "code",
      "source": [
        "def training_loop(model, train_dataloader, test_dataloader, num_epochs, optimizer, criterion, device):\n",
        "\n",
        "  from tqdm import tqdm\n",
        "\n",
        "  model.train()\n",
        "  training_loss = []\n",
        "  print('Training')\n",
        "  for epoch in tqdm(range(num_epochs)):\n",
        "    for i, (input, target) in enumerate(train_dataloader):\n",
        "      input = input.to(device).to(torch.float32)\n",
        "\n",
        "      #compute output\n",
        "      output = model(input)\n",
        "      target = target.type(torch.LongTensor).to(device)\n",
        "\n",
        "      loss = criterion(output, target)\n",
        "      training_loss.append(loss.item())\n",
        "\n",
        "      # backpropagate\n",
        "      optimizer.zero_grad()\n",
        "      loss.backward()\n",
        "      optimizer.step()\n",
        "\n",
        "\n",
        "\n",
        "  with torch.no_grad():\n",
        "    correct = 0\n",
        "    total = 0\n",
        "    for i, (input, target) in enumerate(test_dataloader):\n",
        "      input = input.to(device).to(torch.float32)\n",
        "\n",
        "      # compute output\n",
        "      output = model(input)\n",
        "      target = target.type(torch.LongTensor).to(device)\n",
        "\n",
        "      loss = criterion(output, target)\n",
        "      total += target.size(0)\n",
        "      _, predicted = torch.max(output.data, 1)\n",
        "      correct += (predicted == target).sum().item()\n",
        "\n",
        "    accuracy = correct/total\n",
        "    print(f'\\n Accuracy on the test images: {accuracy}')\n",
        "\n",
        "\n",
        "  return training_loss\n"
      ],
      "metadata": {
        "id": "FESeqz9jC8z_",
        "jupyter": {
          "source_hidden": true
        },
        "execution": {
          "iopub.status.busy": "2023-09-02T14:02:39.926747Z",
          "iopub.execute_input": "2023-09-02T14:02:39.928976Z",
          "iopub.status.idle": "2023-09-02T14:02:39.942635Z",
          "shell.execute_reply.started": "2023-09-02T14:02:39.928943Z",
          "shell.execute_reply": "2023-09-02T14:02:39.941514Z"
        },
        "trusted": true
      },
      "execution_count": 10,
      "outputs": []
    },
    {
      "cell_type": "markdown",
      "source": [
        "# Experiments"
      ],
      "metadata": {
        "id": "tn2Mjfof9G5E"
      }
    },
    {
      "cell_type": "markdown",
      "source": [
        "## Dino"
      ],
      "metadata": {
        "id": "4F8OiKpqW62O"
      }
    },
    {
      "cell_type": "markdown",
      "source": [
        "### model"
      ],
      "metadata": {
        "id": "qUvMoG3yczAV"
      }
    },
    {
      "cell_type": "code",
      "source": [
        "# model\n",
        "device = torch.device('cuda' if torch.cuda.is_available() else 'cpu')\n",
        "\n",
        "model_name = 'dino_vitb16'\n",
        "model_dict = ModelExperiment(model_name = model_name).get_model()\n",
        "model = model_dict['model']\n",
        "model.to(device)\n",
        "\n",
        "\n",
        "\n",
        "\n",
        "# data\n",
        "preprocessing_args = dict()\n",
        "preprocessing_args['type'] = 'imagenet_resize'\n",
        "preprocessing_args['resize_size'] = 224\n",
        "\n",
        "dataloader_args = dict()\n",
        "dataloader_args['batch_size'] = 32\n",
        "\n",
        "dataset_name = 'mnist_torch'\n",
        "\n",
        "dataset = DatasetExperiment(name = dataset_name, preprocessing_args = preprocessing_args)\n",
        "train_dataloader, test_dataloader = dataset.get_dataloaders(dataloader_args)\n",
        "\n",
        "\n",
        "\n",
        "\n",
        "# feature extraction\n",
        "feature_extractor = ImageFeatureExtractor_Torch(model, model_name)\n",
        "\n",
        "# get train embeddings\n",
        "print('train dataset')\n",
        "X_train, y_train = feature_extractor.extract(train_dataloader, device, verbose = False)\n",
        "\n",
        "# get test embeddings\n",
        "print('test dataset')\n",
        "X_test, y_test = feature_extractor.extract(test_dataloader, device, verbose = False)\n",
        "\n",
        "\n",
        "## store features\n",
        "data = {'X_train' : X_train, 'y_train' : y_train, 'X_test': X_test, 'y_test': y_test}\n",
        "root = '/content/drive/MyDrive'\n",
        "experiment_identifier = model_name + '_' + dataset_name\n",
        "\n",
        "store_features(data, root = root, experiment_identifier=experiment_identifier)"
      ],
      "metadata": {
        "id": "Jls0wM3U9Huh",
        "execution": {
          "iopub.status.busy": "2023-09-02T14:06:04.684113Z",
          "iopub.execute_input": "2023-09-02T14:06:04.684478Z",
          "iopub.status.idle": "2023-09-02T14:14:49.453059Z",
          "shell.execute_reply.started": "2023-09-02T14:06:04.684452Z",
          "shell.execute_reply": "2023-09-02T14:14:49.452013Z"
        },
        "trusted": true,
        "colab": {
          "base_uri": "https://localhost:8080/"
        },
        "outputId": "32e91bcf-ba80-47ba-812d-60ecc38f7ee7"
      },
      "execution_count": 19,
      "outputs": [
        {
          "output_type": "stream",
          "name": "stderr",
          "text": [
            "Some weights of ViTModel were not initialized from the model checkpoint at facebook/dino-vitb16 and are newly initialized: ['pooler.dense.weight', 'pooler.dense.bias']\n",
            "You should probably TRAIN this model on a down-stream task to be able to use it for predictions and inference.\n"
          ]
        },
        {
          "output_type": "stream",
          "name": "stdout",
          "text": [
            "train dataset\n",
            "###Extracting features###\n",
            "Done\n",
            "test dataset\n",
            "###Extracting features###\n",
            "Done\n"
          ]
        }
      ]
    },
    {
      "cell_type": "code",
      "source": [
        "root = '/content/drive/MyDrive'\n",
        "dataset_name = 'cifar10_torch'\n",
        "model_name = 'dino_vitb16'\n",
        "\n",
        "experiment_identifier = model_name + '_' + dataset_name\n",
        "keys = ['X_train', 'y_train', 'X_test', 'y_test']\n",
        "data = load_features(root, experiment_identifier, keys)"
      ],
      "metadata": {
        "id": "XDoR28IGQvYA",
        "jupyter": {
          "source_hidden": true
        }
      },
      "execution_count": 16,
      "outputs": []
    },
    {
      "cell_type": "markdown",
      "source": [
        "### evaluations"
      ],
      "metadata": {
        "id": "Hv558K6meKBJ"
      }
    },
    {
      "cell_type": "code",
      "source": [
        "eps =  [0.01, 0.0125, 0.015, 0.0175, 0.02, 0.0225, 0.025, 0.0275, 0.03, 0.035, 0.04,\n",
        "        0.045, 0.05, 0.055, 0.06, 0.065, 0.07, 0.075, 0.08, 0.085, 0.09, 0.1, 0.125, 0.15,\n",
        "        0.175, 0.2, 0.225, 0.25, 0.275, 0.3, 0.325, 0.35, 0.4, 0.45, 0.5, 0.55, 0.6]\n",
        "\n",
        "delta = 1e-5\n",
        "\n",
        "dp_params = dict()\n",
        "dp_params['delta'] = delta\n",
        "dp_params['epsilons'] = eps\n",
        "\n",
        "# single centroids\n",
        "accs_centroids = accuracy_epsilon_sweep(dp_params, data, model_type = 'dp_normalized_centroids')\n",
        "\n",
        "# # subsampling\n",
        "# q = 0.01\n",
        "# reps_count = 64\n",
        "# dp_mechanism_args = {'prediction_model_for_representers': 'logistic_regression',\n",
        "#                      'amplification_args' : {'sampling_probability': q, 'representers_count': reps_count}}\n",
        "# accs_sampled = accuracy_epsilon_sweep(dp_params, data, model_type = 'dp_normalized_centroids', dp_mechanism_args = dp_mechanism_args)\n",
        "\n",
        "# compare subsampling with single centroids\n",
        "# accs_dict = {f'Subsampling {reps_count}, {q}': accs_sampled, 'Single Centroids': accs_centroids}\n",
        "accs_dict = {'Single Centroids' : accs_centroids}\n",
        "dataset_name = 'MNIST'\n",
        "backbone_name = 'Dino ViTb/16'\n",
        "title = dataset_name + ' With ' + backbone_name + ' Backbone'\n",
        "\n",
        "\n",
        "plot_dict(accs_dict, x = eps, title=title)\n",
        "plt.show()"
      ],
      "metadata": {
        "execution": {
          "iopub.status.busy": "2023-09-02T12:28:20.230987Z",
          "iopub.execute_input": "2023-09-02T12:28:20.231385Z",
          "iopub.status.idle": "2023-09-02T12:28:32.443569Z",
          "shell.execute_reply.started": "2023-09-02T12:28:20.231354Z",
          "shell.execute_reply": "2023-09-02T12:28:32.442439Z"
        },
        "id": "4Cr_-k39Bt2J",
        "outputId": "4cd6c0a9-aa3d-4418-e16b-5dc4359bd1cc",
        "jupyter": {
          "source_hidden": true,
          "outputs_hidden": true
        },
        "trusted": true
      },
      "execution_count": null,
      "outputs": [
        {
          "name": "stderr",
          "text": "100%|██████████| 37/37 [00:11<00:00,  3.13it/s]\n",
          "output_type": "stream"
        },
        {
          "output_type": "display_data",
          "data": {
            "text/plain": "<Figure size 640x480 with 1 Axes>",
            "image/png": "[encoded data removed]"
          },
          "metadata": {}
        }
      ]
    },
    {
      "cell_type": "code",
      "source": [
        "eps =  [0.01, 0.0125, 0.015, 0.0175, 0.02, 0.0225, 0.025, 0.0275, 0.03, 0.035, 0.04,\n",
        "        0.045, 0.05, 0.055, 0.06, 0.065, 0.07, 0.075, 0.08, 0.085, 0.09, 0.1, 0.125, 0.15,\n",
        "        0.175, 0.2, 0.225, 0.25, 0.275, 0.3, 0.325, 0.35, 0.4, 0.45, 0.5, 0.55, 0.6]\n",
        "\n",
        "delta = 1e-4\n",
        "\n",
        "dp_params = dict()\n",
        "dp_params['delta'] = delta\n",
        "dp_params['epsilons'] = eps\n",
        "\n",
        "# single centroids\n",
        "accs_centroids = accuracy_epsilon_sweep(dp_params, data, model_type = 'dp_normalized_centroids')\n",
        "\n",
        "# # subsampling\n",
        "# q = 0.01\n",
        "# reps_count = 64\n",
        "# dp_mechanism_args = {'prediction_model_for_representers': 'logistic_regression',\n",
        "#                      'amplification_args' : {'sampling_probability': q, 'representers_count': reps_count}}\n",
        "# accs_sampled = accuracy_epsilon_sweep(dp_params, data, model_type = 'dp_normalized_centroids', dp_mechanism_args = dp_mechanism_args)\n",
        "\n",
        "# compare subsampling with single centroids\n",
        "# accs_dict = {f'Subsampling {reps_count}, {q}': accs_sampled, 'Single Centroids': accs_centroids}\n",
        "accs_dict = {'Single Centroids' : accs_centroids}\n",
        "dataset_name = 'CIFAR-10'\n",
        "backbone_name = 'Dino ViTb/16'\n",
        "title = dataset_name + ' With ' + backbone_name + ' Backbone'\n",
        "\n",
        "\n",
        "plot_dict(accs_dict, x = eps, title=title)\n",
        "plt.show()"
      ],
      "metadata": {
        "colab": {
          "base_uri": "https://localhost:8080/",
          "height": 497
        },
        "id": "WvinO6IweLkG",
        "outputId": "2e6f1117-3c2e-4459-92ec-a01d8b2a7658",
        "jupyter": {
          "source_hidden": true,
          "outputs_hidden": true
        }
      },
      "execution_count": null,
      "outputs": [
        {
          "output_type": "stream",
          "name": "stderr",
          "text": "100%|██████████| 37/37 [00:11<00:00,  3.22it/s]\n"
        },
        {
          "output_type": "display_data",
          "data": {
            "text/plain": [
              "<Figure size 640x480 with 1 Axes>"
            ],
            "image/png": "[encoded data removed]"
          },
          "metadata": {}
        }
      ]
    },
    {
      "cell_type": "code",
      "source": [
        "from sklearn.linear_model import LogisticRegression as LR\n",
        "lr = LR(max_iter = 100)\n",
        "lr.fit(normalize(data['X_train']), data['y_train'])\n",
        "print(lr.score(normalize(data['X_test']), data['y_test']))"
      ],
      "metadata": {
        "colab": {
          "base_uri": "https://localhost:8080/"
        },
        "id": "Zv-yx0tuZ0cN",
        "outputId": "eff2dcea-9645-4a1d-c336-e17776bf0630"
      },
      "execution_count": null,
      "outputs": [
        {
          "name": "stdout",
          "output_type": "stream",
          "text": "0.9461\n"
        },
        {
          "name": "stderr",
          "output_type": "stream",
          "text": "/usr/local/lib/python3.10/dist-packages/sklearn/linear_model/_logistic.py:458: ConvergenceWarning: lbfgs failed to converge (status=1):\n\nSTOP: TOTAL NO. of ITERATIONS REACHED LIMIT.\n\n\n\nIncrease the number of iterations (max_iter) or scale the data as shown in:\n\n    https://scikit-learn.org/stable/modules/preprocessing.html\n\nPlease also refer to the documentation for alternative solver options:\n\n    https://scikit-learn.org/stable/modules/linear_model.html#logistic-regression\n\n  n_iter_i = _check_optimize_result(\n"
        }
      ]
    },
    {
      "cell_type": "code",
      "source": [
        "from sklearn.linear_model import LogisticRegression as LR\n",
        "lr = LR(max_iter = 100)\n",
        "lr.fit(normalize(data['X_train']), data['y_train'])\n",
        "print(lr.score(normalize(data['X_test']), data['y_test']))"
      ],
      "metadata": {
        "execution": {
          "iopub.status.busy": "2023-09-02T12:28:37.805024Z",
          "iopub.execute_input": "2023-09-02T12:28:37.805393Z",
          "iopub.status.idle": "2023-09-02T12:29:09.107172Z",
          "shell.execute_reply.started": "2023-09-02T12:28:37.805365Z",
          "shell.execute_reply": "2023-09-02T12:29:09.106198Z"
        },
        "id": "aG4VlGxYBt2L",
        "outputId": "7c4001aa-cd95-4773-b7cd-36c1036d2785",
        "trusted": true
      },
      "execution_count": null,
      "outputs": [
        {
          "name": "stdout",
          "text": "0.9641\n",
          "output_type": "stream"
        },
        {
          "name": "stderr",
          "text": "/opt/conda/lib/python3.10/site-packages/sklearn/linear_model/_logistic.py:458: ConvergenceWarning: lbfgs failed to converge (status=1):\nSTOP: TOTAL NO. of ITERATIONS REACHED LIMIT.\n\nIncrease the number of iterations (max_iter) or scale the data as shown in:\n    https://scikit-learn.org/stable/modules/preprocessing.html\nPlease also refer to the documentation for alternative solver options:\n    https://scikit-learn.org/stable/modules/linear_model.html#logistic-regression\n  n_iter_i = _check_optimize_result(\n",
          "output_type": "stream"
        }
      ]
    },
    {
      "cell_type": "markdown",
      "source": [
        "## MSN"
      ],
      "metadata": {
        "id": "6ZF21-TmiSHN"
      }
    },
    {
      "cell_type": "code",
      "source": [
        "# model\n",
        "device = torch.device('cuda' if torch.cuda.is_available() else 'cpu')\n",
        "\n",
        "model_name = 'msn_vitb16'\n",
        "model_dict = ModelExperiment(model_name = model_name).get_model()\n",
        "model = model_dict['model']\n",
        "model.to(device)\n",
        "\n",
        "\n",
        "\n",
        "\n",
        "# data\n",
        "preprocessing_args = dict()\n",
        "preprocessing_args['type'] = 'imagenet_resize'\n",
        "preprocessing_args['resize_size'] = 224\n",
        "\n",
        "dataloader_args = dict()\n",
        "dataloader_args['batch_size'] = 32\n",
        "\n",
        "dataset_name = 'cifar10_torch'\n",
        "\n",
        "dataset = DatasetExperiment(name = dataset_name, preprocessing_args = preprocessing_args)\n",
        "train_dataloader, test_dataloader = dataset.get_dataloaders(dataloader_args)\n",
        "\n",
        "\n",
        "\n",
        "\n",
        "# feature extraction\n",
        "feature_extractor = ImageFeatureExtractor_Torch(model, model_name)\n",
        "\n",
        "# get train embeddings\n",
        "print('train dataset')\n",
        "X_train, y_train = feature_extractor.extract(train_dataloader, device)\n",
        "\n",
        "# get test embeddings\n",
        "print('test dataset')\n",
        "X_test, y_test = feature_extractor.extract(test_dataloader, device)\n",
        "\n",
        "\n",
        "## store features\n",
        "data = {'X_train' : X_train, 'y_train' : y_train, 'X_test': X_test, 'y_test': y_test}\n",
        "root = '/content/drive/MyDrive'\n",
        "experiment_identifier = model_name + '_' + dataset_name\n",
        "\n",
        "store_features(data, root = root, experiment_identifier=experiment_identifier)"
      ],
      "metadata": {
        "colab": {
          "base_uri": "https://localhost:8080/"
        },
        "id": "TKYbF9KHiVmx",
        "outputId": "c71d9622-a4e3-4d10-d419-b37a25e062b5",
        "jupyter": {
          "source_hidden": true
        }
      },
      "execution_count": null,
      "outputs": [
        {
          "name": "stdout",
          "output_type": "stream",
          "text": "Files already downloaded and verified\n\nFiles already downloaded and verified\n\ntrain dataset\n\n###Extracting features###\n"
        },
        {
          "name": "stderr",
          "output_type": "stream",
          "text": " 64%|██████▍   | 1006/1563 [06:20<03:35,  2.59it/s]"
        }
      ]
    },
    {
      "cell_type": "markdown",
      "source": [
        "## SimCSE"
      ],
      "metadata": {
        "id": "1VS-BF--9TJl"
      }
    },
    {
      "cell_type": "code",
      "source": [
        "device = torch.device('cuda' if torch.cuda.is_available() else 'cpu')\n",
        "\n",
        "model_name = 'sup_simcse_roberta_large'\n",
        "model_dict = ModelExperiment(model_name = model_name).get_model()\n",
        "model = model_dict['model']\n",
        "model.to(device)\n",
        "\n",
        "\n"
      ],
      "metadata": {
        "id": "RyRRmg3i9UM1",
        "jupyter": {
          "source_hidden": true
        }
      },
      "execution_count": null,
      "outputs": []
    },
    {
      "cell_type": "markdown",
      "source": [
        "## Dot Products"
      ],
      "metadata": {
        "id": "H1XW_aRKwZYw"
      }
    },
    {
      "cell_type": "code",
      "source": [
        "X = data['X_train']\n",
        "y = data['y_train']\n",
        "\n",
        "\n",
        "classes = {0: 'plane', 1: 'car', 2: 'bird', 3: 'cat', 4: 'deer', 5: 'dog',\n",
        "           6: 'frog', 7 : 'horse', 8 : 'ship', 9 : 'truck'}\n",
        "\n",
        "iterations_full = 50000\n",
        "iterations_per_class = 200000\n",
        "\n",
        "model_name = 'Dino ViTb/16'\n",
        "dataset_name = 'CIFAR-10'\n",
        "suptitle = f'Distribution of Dot Products in {model_name} Emebeddings ({dataset_name})'\n",
        "histogram_args = {'bins' : 100, 'density' : True, 'alpha' : 0.6}\n",
        "\n",
        "plot_dot_products(X, y, iterations_full = iterations_full, iterations_per_class = iterations_per_class,\n",
        "                  class_names = classes, histogram_args = histogram_args, suptitle = suptitle)\n",
        "plt.show()"
      ],
      "metadata": {
        "colab": {
          "base_uri": "https://localhost:8080/",
          "height": 691
        },
        "id": "R0mh1qgMwahO",
        "outputId": "701cfdeb-2333-4ca5-a106-a4e1377116a7",
        "jupyter": {
          "source_hidden": true,
          "outputs_hidden": true
        }
      },
      "execution_count": null,
      "outputs": [
        {
          "output_type": "stream",
          "name": "stdout",
          "text": "Sampling Per Class Dot Products\n"
        },
        {
          "output_type": "stream",
          "name": "stderr",
          "text": "100%|██████████| 10/10 [03:13<00:00, 19.38s/it]\n"
        },
        {
          "output_type": "stream",
          "name": "stdout",
          "text": "Sampling Intra Class Dot Products!\n"
        },
        {
          "output_type": "stream",
          "name": "stderr",
          "text": "100%|██████████| 50000/50000 [00:00<00:00, 56130.10it/s]\n"
        },
        {
          "output_type": "stream",
          "name": "stdout",
          "text": "Sampling Inter Class Dot Products!\n"
        },
        {
          "output_type": "stream",
          "name": "stderr",
          "text": "100%|██████████| 50000/50000 [00:01<00:00, 33876.95it/s]\n"
        },
        {
          "output_type": "display_data",
          "data": {
            "text/plain": [
              "<Figure size 1400x600 with 2 Axes>"
            ],
            "image/png": "[encoded data removed]"
          },
          "metadata": {}
        }
      ]
    },
    {
      "cell_type": "code",
      "source": [
        "X = data['X_train']\n",
        "y = data['y_train']\n",
        "\n",
        "\n",
        "classes = {0: 'one', 1: 'two', 2: 'three', 3: 'four', 4: 'five', 5: 'six',\n",
        "           6: 'seven', 7 : 'eight', 8 : 'nine', 9 : 'ten'}\n",
        "\n",
        "iterations_full = 50000\n",
        "iterations_per_class = 200000\n",
        "\n",
        "model_name = 'Dino ViTb/16'\n",
        "dataset_name = 'MNIST'\n",
        "suptitle = f'Distribution of Dot Products in {model_name} Emebeddings ({dataset_name})'\n",
        "histogram_args = {'bins' : 100, 'density' : True, 'alpha' : 0.6}\n",
        "\n",
        "plot_dot_products(X, y, iterations_full = iterations_full, iterations_per_class = iterations_per_class,\n",
        "                  class_names = classes, histogram_args = histogram_args, suptitle = suptitle)\n",
        "plt.show()"
      ],
      "metadata": {
        "execution": {
          "iopub.status.busy": "2023-09-02T12:30:00.692919Z",
          "iopub.execute_input": "2023-09-02T12:30:00.693402Z",
          "iopub.status.idle": "2023-09-02T12:33:34.123178Z",
          "shell.execute_reply.started": "2023-09-02T12:30:00.693365Z",
          "shell.execute_reply": "2023-09-02T12:33:34.122225Z"
        },
        "id": "mhjk0l68Bt2N",
        "outputId": "2ac5116b-3758-4853-e54b-8a0fc9214196",
        "jupyter": {
          "source_hidden": true,
          "outputs_hidden": true
        },
        "trusted": true
      },
      "execution_count": null,
      "outputs": [
        {
          "name": "stdout",
          "text": "Sampling Per Class Dot Products\n",
          "output_type": "stream"
        },
        {
          "name": "stderr",
          "text": "100%|██████████| 10/10 [03:24<00:00, 20.44s/it]\n",
          "output_type": "stream"
        },
        {
          "name": "stdout",
          "text": "Sampling Intra Class Dot Products!\n",
          "output_type": "stream"
        },
        {
          "name": "stderr",
          "text": "100%|██████████| 50000/50000 [00:02<00:00, 24706.90it/s]\n",
          "output_type": "stream"
        },
        {
          "name": "stdout",
          "text": "Sampling Inter Class Dot Products!\n",
          "output_type": "stream"
        },
        {
          "name": "stderr",
          "text": "100%|██████████| 50000/50000 [00:02<00:00, 17877.92it/s]\n",
          "output_type": "stream"
        },
        {
          "output_type": "display_data",
          "data": {
            "text/plain": "<Figure size 1400x600 with 2 Axes>",
            "image/png": "[encoded data removed]"
          },
          "metadata": {}
        }
      ]
    },
    {
      "cell_type": "markdown",
      "source": [
        "## Deep Centroids"
      ],
      "metadata": {
        "id": "Gl0ql8LeBt2O"
      }
    },
    {
      "cell_type": "markdown",
      "source": [
        "### Utilities"
      ],
      "metadata": {
        "id": "dPVyFDz4SNcH"
      }
    },
    {
      "cell_type": "code",
      "source": [
        "# imports\n",
        "\n",
        "!pip install opacus"
      ],
      "metadata": {
        "colab": {
          "base_uri": "https://localhost:8080/"
        },
        "id": "SYXvkfzwSO0S",
        "outputId": "5d875001-e026-436f-d259-025523e8d928"
      },
      "execution_count": 17,
      "outputs": [
        {
          "output_type": "stream",
          "name": "stdout",
          "text": [
            "Requirement already satisfied: opacus in /usr/local/lib/python3.10/dist-packages (1.4.0)\n",
            "Requirement already satisfied: numpy>=1.15 in /usr/local/lib/python3.10/dist-packages (from opacus) (1.23.5)\n",
            "Requirement already satisfied: torch>=1.13 in /usr/local/lib/python3.10/dist-packages (from opacus) (2.0.1+cu118)\n",
            "Requirement already satisfied: scipy>=1.2 in /usr/local/lib/python3.10/dist-packages (from opacus) (1.10.1)\n",
            "Requirement already satisfied: opt-einsum>=3.3.0 in /usr/local/lib/python3.10/dist-packages (from opacus) (3.3.0)\n",
            "Requirement already satisfied: filelock in /usr/local/lib/python3.10/dist-packages (from torch>=1.13->opacus) (3.12.2)\n",
            "Requirement already satisfied: typing-extensions in /usr/local/lib/python3.10/dist-packages (from torch>=1.13->opacus) (4.7.1)\n",
            "Requirement already satisfied: sympy in /usr/local/lib/python3.10/dist-packages (from torch>=1.13->opacus) (1.12)\n",
            "Requirement already satisfied: networkx in /usr/local/lib/python3.10/dist-packages (from torch>=1.13->opacus) (3.1)\n",
            "Requirement already satisfied: jinja2 in /usr/local/lib/python3.10/dist-packages (from torch>=1.13->opacus) (3.1.2)\n",
            "Requirement already satisfied: triton==2.0.0 in /usr/local/lib/python3.10/dist-packages (from torch>=1.13->opacus) (2.0.0)\n",
            "Requirement already satisfied: cmake in /usr/local/lib/python3.10/dist-packages (from triton==2.0.0->torch>=1.13->opacus) (3.27.2)\n",
            "Requirement already satisfied: lit in /usr/local/lib/python3.10/dist-packages (from triton==2.0.0->torch>=1.13->opacus) (16.0.6)\n",
            "Requirement already satisfied: MarkupSafe>=2.0 in /usr/local/lib/python3.10/dist-packages (from jinja2->torch>=1.13->opacus) (2.1.3)\n",
            "Requirement already satisfied: mpmath>=0.19 in /usr/local/lib/python3.10/dist-packages (from sympy->torch>=1.13->opacus) (1.3.0)\n"
          ]
        }
      ]
    },
    {
      "cell_type": "code",
      "source": [
        "# model\n",
        "\n",
        "import torch.nn as nn\n",
        "import torch.nn.functional as F\n",
        "\n",
        "class CentroidClassifier(nn.Module):\n",
        "    def __init__(self, embedding_size, class_number):\n",
        "        super().__init__()\n",
        "        self.embedding_projection = nn.Linear(embedding_size, embedding_size)\n",
        "        self.classifier = nn.Linear(embedding_size, class_number, bias = False)\n",
        "\n",
        "    def forward(self, x):\n",
        "        x = self.embedding_projection(x)\n",
        "        x = F.relu(x)\n",
        "        x = F.normalize(x)\n",
        "        x = self.classifier(x)\n",
        "        return x\n",
        "\n"
      ],
      "metadata": {
        "id": "WWHRf3tITdoV"
      },
      "execution_count": 34,
      "outputs": []
    },
    {
      "cell_type": "code",
      "source": [
        "# experiment loop\n",
        "\n",
        "def deep_centroids_experiment(data, dataloader_args, dp_params, optimizer_args):\n",
        "\n",
        "  #data\n",
        "  X_train = data['X_train']\n",
        "  X_test = data['X_test']\n",
        "  y_train = data['y_train']\n",
        "  y_test = data['y_test']\n",
        "\n",
        "  #normalize\n",
        "  from sklearn.preprocessing import normalize\n",
        "  X_train = normalize(X_train)\n",
        "  X_test = normalize(X_test)\n",
        "\n",
        "  # dataloader\n",
        "  train_dataloader = get_dataloader_from_xy(X_train, y_train, dataloader_args)\n",
        "  test_dataloader = get_dataloader_from_xy(X_test, y_test, dataloader_args)\n",
        "\n",
        "\n",
        "\n",
        "  # classifier\n",
        "  embedding_size = X_train.shape[1]\n",
        "  class_number = len(np.unique(y_train))\n",
        "\n",
        "  dp_classifier = DP_CentroidClassifier(**dp_params)\n",
        "  dp_classifier.dp_fit(X_train, y_train)\n",
        "\n",
        "  centroid_classifier = CentroidClassifier(embedding_size = embedding_size, class_number = class_number)\n",
        "\n",
        "\n",
        "  centroid_classifier.classifier.weight = torch.nn.Parameter(\n",
        "      torch.from_numpy(dp_classifier.centroids).to(torch.float32))\n",
        "  centroid_classifier.classifier.weight.trainable = False\n",
        "\n",
        "  criterion = nn.CrossEntropyLoss()\n",
        "  optimizer = torch.optim.SGD(centroid_classifier.parameters(), **optimizer_args)\n",
        "\n",
        "  return train_dataloader, test_dataloader, centroid_classifier, optimizer, criterion\n",
        "\n"
      ],
      "metadata": {
        "id": "D7bsNpXeBt2O",
        "execution": {
          "iopub.status.busy": "2023-09-02T14:14:55.843530Z",
          "iopub.execute_input": "2023-09-02T14:14:55.843894Z",
          "iopub.status.idle": "2023-09-02T14:14:55.853770Z",
          "shell.execute_reply.started": "2023-09-02T14:14:55.843864Z",
          "shell.execute_reply": "2023-09-02T14:14:55.852833Z"
        },
        "jupyter": {
          "source_hidden": true
        },
        "trusted": true
      },
      "execution_count": 70,
      "outputs": []
    },
    {
      "cell_type": "markdown",
      "source": [
        "### Results"
      ],
      "metadata": {
        "id": "0g1eJeXdSPy3"
      }
    },
    {
      "cell_type": "code",
      "source": [
        "# non private projection\n",
        "dataloader_args = {'batch_size': 1000, 'shuffle': True}\n",
        "dp_params = {'epsilon': 0.3, 'delta' : 1e-4}\n",
        "optimizer_args = {'lr' : 1, 'momentum': 0.9}\n",
        "\n",
        "train_dataloader, test_dataloader, centroid_classifier, optimizer, criterion = deep_centroids_experiment(data, dataloader_args, dp_params, optimizer_args)\n",
        "\n",
        "\n",
        "device = torch.device('cuda' if torch.cuda.is_available() else 'cpu')\n",
        "\n",
        "centroid_classifier.to(device)\n",
        "num_epochs = 10\n",
        "train_loss = training_loop(centroid_classifier, train_dataloader,\n",
        "                           test_dataloader, num_epochs, optimizer, criterion, device)"
      ],
      "metadata": {
        "id": "ng5anAOvD5zK",
        "execution": {
          "iopub.status.busy": "2023-09-02T14:21:53.703675Z",
          "iopub.execute_input": "2023-09-02T14:21:53.704048Z",
          "iopub.status.idle": "2023-09-02T14:21:53.744815Z",
          "shell.execute_reply.started": "2023-09-02T14:21:53.704019Z",
          "shell.execute_reply": "2023-09-02T14:21:53.743334Z"
        },
        "trusted": true,
        "colab": {
          "base_uri": "https://localhost:8080/"
        },
        "outputId": "d29240b5-b855-4325-b73f-351f05aeb432"
      },
      "execution_count": 73,
      "outputs": [
        {
          "output_type": "stream",
          "name": "stdout",
          "text": [
            "Training\n"
          ]
        },
        {
          "output_type": "stream",
          "name": "stderr",
          "text": [
            "100%|██████████| 10/10 [00:06<00:00,  1.61it/s]"
          ]
        },
        {
          "output_type": "stream",
          "name": "stdout",
          "text": [
            "\n",
            " Accuracy on the test images: 0.9466\n"
          ]
        },
        {
          "output_type": "stream",
          "name": "stderr",
          "text": [
            "\n"
          ]
        }
      ]
    },
    {
      "cell_type": "code",
      "source": [
        "from opacus import PrivacyEngine\n",
        "\n",
        "# data and experiment args\n",
        "dataloader_args = {'batch_size': 1000, 'shuffle': True}\n",
        "dp_params = {'epsilon': 0.05, 'delta' : 1e-4}\n",
        "optimizer_args = {'lr' : 1, 'momentum': 0.9}\n",
        "\n",
        "num_epochs = 10\n",
        "\n",
        "train_dataloader, test_dataloader, centroid_classifier, optimizer, criterion = deep_centroids_experiment(\n",
        "    data, dataloader_args, dp_params, optimizer_args)\n",
        "\n",
        "\n",
        "# dp\n",
        "privacy_engine = PrivacyEngine()\n",
        "\n",
        "dp_params = {'epsilon': 0.05, 'delta' : 1e-4}\n",
        "centroid_classifier, optimizer, train_dataloader = privacy_engine.make_private_with_epsilon(\n",
        "    module=centroid_classifier,\n",
        "    optimizer=optimizer,\n",
        "    data_loader=train_dataloader,\n",
        "    epochs=num_epochs,\n",
        "    target_epsilon=dp_params['epsilon'],\n",
        "    target_delta=dp_params['delta'],\n",
        "    max_grad_norm=1,\n",
        ")\n",
        "\n",
        "# train\n",
        "device = torch.device('cuda' if torch.cuda.is_available() else 'cpu')\n",
        "centroid_classifier.to(device)\n",
        "\n",
        "train_loss = training_loop(centroid_classifier, train_dataloader,\n",
        "                           test_dataloader, num_epochs, optimizer, criterion, device)"
      ],
      "metadata": {
        "execution": {
          "iopub.status.busy": "2023-09-02T14:19:39.565986Z",
          "iopub.execute_input": "2023-09-02T14:19:39.566371Z",
          "iopub.status.idle": "2023-09-02T14:19:42.686370Z",
          "shell.execute_reply.started": "2023-09-02T14:19:39.566343Z",
          "shell.execute_reply": "2023-09-02T14:19:42.684866Z"
        },
        "trusted": true,
        "colab": {
          "base_uri": "https://localhost:8080/"
        },
        "id": "dPgE0pTDRlV9",
        "outputId": "d13aef82-eab3-49ff-b656-8452e2a5f443"
      },
      "execution_count": 68,
      "outputs": [
        {
          "output_type": "stream",
          "name": "stderr",
          "text": [
            "/usr/local/lib/python3.10/dist-packages/opacus/privacy_engine.py:142: UserWarning: Secure RNG turned off. This is perfectly fine for experimentation as it allows for much faster training performance, but remember to turn it on and retrain one last time before production with ``secure_mode`` turned on.\n",
            "  warnings.warn(\n",
            "/usr/local/lib/python3.10/dist-packages/opacus/accountants/analysis/rdp.py:332: UserWarning: Optimal order is the largest alpha. Please consider expanding the range of alphas to get a tighter privacy bound.\n",
            "  warnings.warn(\n",
            "/usr/local/lib/python3.10/dist-packages/opacus/accountants/analysis/prv/prvs.py:50: RuntimeWarning: invalid value encountered in log\n",
            "  z = np.log((np.exp(t) + q - 1) / q)\n"
          ]
        },
        {
          "output_type": "stream",
          "name": "stdout",
          "text": [
            "Training\n"
          ]
        },
        {
          "output_type": "stream",
          "name": "stderr",
          "text": [
            "\r  0%|          | 0/10 [00:00<?, ?it/s]/usr/local/lib/python3.10/dist-packages/torch/nn/modules/module.py:1344: UserWarning: Using a non-full backward hook when the forward contains multiple autograd Nodes is deprecated and will be removed in future versions. This hook will be missing some grad_input. Please use register_full_backward_hook to get the documented behavior.\n",
            "  warnings.warn(\"Using a non-full backward hook when the forward contains multiple autograd Nodes \"\n",
            "100%|██████████| 10/10 [00:30<00:00,  3.09s/it]"
          ]
        },
        {
          "output_type": "stream",
          "name": "stdout",
          "text": [
            "\n",
            " Accuracy on the test images: 0.6655\n"
          ]
        },
        {
          "output_type": "stream",
          "name": "stderr",
          "text": [
            "\n"
          ]
        }
      ]
    }
  ]
}